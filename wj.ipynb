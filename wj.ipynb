{
 "cells": [
  {
   "cell_type": "code",
   "execution_count": 1,
   "metadata": {},
   "outputs": [],
   "source": [
    "import numpy as np\n",
    "import copy\n",
    "from PIL import Image\n",
    "import matplotlib.pyplot as plt"
   ]
  },
  {
   "cell_type": "code",
   "execution_count": 2,
   "metadata": {},
   "outputs": [],
   "source": [
    "m = 4\n",
    "n = 5\n",
    "\n",
    "Y = np.random.rand(m, n)\n",
    "l = 1.0\n",
    "gamma = 0.1\n",
    "max_iter = 100"
   ]
  },
  {
   "cell_type": "code",
   "execution_count": 3,
   "metadata": {},
   "outputs": [
    {
     "data": {
      "text/plain": [
       "array([[0.83276268, 0.18889349]])"
      ]
     },
     "execution_count": 3,
     "metadata": {},
     "output_type": "execute_result"
    }
   ],
   "source": [
    "u = np.random.rand(1,2)\n",
    "u"
   ]
  },
  {
   "cell_type": "code",
   "execution_count": 4,
   "metadata": {},
   "outputs": [
    {
     "name": "stdout",
     "output_type": "stream",
     "text": [
      "[[-0.70710678  0.70710678]\n",
      " [ 0.70710678  0.70710678]]\n",
      "[[1.73205081 0.         0.        ]\n",
      " [0.         1.         0.        ]]\n"
     ]
    },
    {
     "data": {
      "text/plain": [
       "array([[ 4.08248290e-01, -8.16496581e-01,  4.08248290e-01],\n",
       "       [-7.07106781e-01, -2.78976253e-16,  7.07106781e-01],\n",
       "       [ 5.77350269e-01,  5.77350269e-01,  5.77350269e-01]])"
      ]
     },
     "execution_count": 4,
     "metadata": {},
     "output_type": "execute_result"
    }
   ],
   "source": [
    "G = np.array([[-1,1,0],[0,-1,1]])\n",
    "U, S, VT = np.linalg.svd(G)\n",
    "S_full = np.zeros((2, 3))\n",
    "S_full[:, :len(S)] = np.diag(S)\n",
    "print(U)\n",
    "print(S_full)\n",
    "VT"
   ]
  },
  {
   "cell_type": "code",
   "execution_count": 5,
   "metadata": {},
   "outputs": [],
   "source": [
    "def solve_case_1(w,l,gamma):\n",
    "    pho = l/gamma\n",
    "    G = np.array([[-1,1,0],[0,-1,1]])\n",
    "    B = np.linalg.inv(np.dot(G,G.T))\n",
    "    B = np.dot(B,np.dot(G,w.T))\n",
    "    pho_max = np.linalg.norm(B)\n",
    "    if pho > pho_max:\n",
    "        B = np.linalg.inv(np.dot(G,G.T))\n",
    "        B = np.dot(G.T,B)\n",
    "        B = np.dot(B,G)\n",
    "        u = np.dot(np.identity(3)-B,w.T)\n",
    "\n",
    "    else:\n",
    "        U, S, VT = np.linalg.svd(G)\n",
    "        S_full = np.zeros((2, 3))\n",
    "        S_full[:, :len(S)] = np.diag(S)\n",
    "        w_hat = np.dot(S_full,np.dot(VT,w.T))\n",
    "        w_hat = w_hat.T\n",
    "        c0 = (pho**8)*9-(pho**6)*(w_hat[0]**2+(w_hat[1]**2)*9)\n",
    "        c1 = 2*(pho**6)*(3+9) - 2*(pho**4)*(w_hat[0]**2+w_hat[1]**2*3)\n",
    "        c2 = pho**4*(9+1+12)-pho**2*(w_hat[0]**2+w_hat[1]**2)\n",
    "        c3 = 2*pho**2*4\n",
    "\n",
    "        coefficients = [1,c3,c2,c1,c0]\n",
    "        roots = np.roots(coefficients)\n",
    "        positive_real_roots = [root.real for root in roots if np.isreal(root) and root.real > 0]\n",
    "        \n",
    "        alpha =np.min(positive_real_roots)\n",
    "        B = np.linalg.inv(np.dot(G,G.T)+alpha/(pho**2)*np.identity(2))\n",
    "        B = np.dot(G.T,B)\n",
    "        B = np.dot(B,G)\n",
    "        u = np.dot(np.identity(3)-B,w.T)\n",
    "\n",
    "    return u.T\n"
   ]
  },
  {
   "cell_type": "code",
   "execution_count": 6,
   "metadata": {},
   "outputs": [],
   "source": [
    "def solve_case_2(w,l,gamma):\n",
    "    pho = l/gamma\n",
    "    if w[0]>w[1] + 2*pho:\n",
    "        u = np.array([w[0]-pho,w[1]+pho])\n",
    "    elif w[0] < w[1]-2*pho:\n",
    "        u = np.array([w[0]+pho,w[1]-pho])\n",
    "    else:\n",
    "        u = np.array([(w[0]+w[1])/2,(w[0]+w[1])/2])\n",
    "    return u.T"
   ]
  },
  {
   "cell_type": "code",
   "execution_count": 7,
   "metadata": {},
   "outputs": [],
   "source": [
    "def minfunc(V,l,gamma,k):\n",
    "    m,n = V.shape\n",
    "    X = copy.deepcopy(V)\n",
    "    for p in range(m):\n",
    "        for q in range(n):\n",
    "            if (p-q) % 3 != k:\n",
    "                continue\n",
    "            if (p < m-1) and (q < n-1):\n",
    "                w = np.array([V[p,q+1],V[p,q],V[p+1,q]])\n",
    "                u = solve_case_1(w,l,gamma)\n",
    "                X[p,q+1] = u[0]\n",
    "                X[p,q] = u[1]\n",
    "                X[p+1,q] = u[2]\n",
    "            \n",
    "            if (p == m-1) and (q < n-1):\n",
    "                w = np.array([V[p,q+1],V[p,q]])\n",
    "                u = solve_case_2(w,l,gamma)\n",
    "                X[p,q+1] = u[0]\n",
    "                X[p,q] = u[1]\n",
    "            \n",
    "            if (p < m-1) and (q == n-1):\n",
    "                w = np.array([V[p,q],V[p+1,q]])\n",
    "                u = solve_case_2(w,l,gamma)\n",
    "                X[p,q] = u[0]\n",
    "                X[p+1,q] = u[1]\n",
    "    return X\n",
    "\n",
    "\n"
   ]
  },
  {
   "cell_type": "code",
   "execution_count": 8,
   "metadata": {},
   "outputs": [],
   "source": [
    "def FAD(Y,l,gamma):\n",
    "    m,n = Y.shape\n",
    "    Z = copy.deepcopy(Y)\n",
    "    X = [copy.deepcopy(Y), copy.deepcopy(Y), copy.deepcopy(Y)]\n",
    "    theta = [np.zeros((m,n)),np.zeros((m,n)),np.zeros((m,n))]\n",
    "    V = [np.zeros((m,n)),np.zeros((m,n)),np.zeros((m,n))]\n",
    "    for iter in range(max_iter):\n",
    "\n",
    "        for k in range(3):\n",
    "            V[k] = Z-theta[k]\n",
    "            X[k] = minfunc(V[k],l,gamma,k)\n",
    "        Z = (Y+theta[0]+theta[1]+theta[2]+X[0]+X[1]+X[2])/(1+3*gamma)\n",
    "\n",
    "        for k in range(3):\n",
    "            theta[k] = theta[k] + X[k] - Z\n",
    "    \n",
    "    return Z\n"
   ]
  },
  {
   "cell_type": "code",
   "execution_count": 34,
   "metadata": {},
   "outputs": [
    {
     "data": {
      "image/png": "[encoded data removed]",
      "text/plain": [
       "<Figure size 640x480 with 1 Axes>"
      ]
     },
     "metadata": {},
     "output_type": "display_data"
    }
   ],
   "source": [
    "image_path = '6.png'  # 替换为你的图片路径\n",
    "image = Image.open(image_path)\n",
    "\n",
    "# 转换为灰度图像\n",
    "gray_image = image.convert('L').resize((30,30))\n",
    "\n",
    "# 将灰度图像转换为 NumPy 数组\n",
    "gray_image_np = np.array(gray_image)\n",
    "\n",
    "\n",
    "def add_gaussian_noise(image, mean=0, std=5):\n",
    "    noise = np.random.normal(mean, std, image.shape)  # 生成高斯噪声\n",
    "    noisy_image = image + noise  # 添加噪声\n",
    "    noisy_image = np.clip(noisy_image, 0, 255)  # 确保值在[0, 255]范围内\n",
    "    return noisy_image\n",
    "\n",
    "def add_stripe_noise(image, stripe_gap=3, noise_mean=0, noise_std=25):\n",
    "    # 获取图像的高度和宽度\n",
    "    height, width = image.shape[:2]\n",
    "\n",
    "    # 创建一个与输入图像大小相同的噪声矩阵\n",
    "    noisy_image = image.copy()\n",
    "    # 遍历图像，每隔stripe_gap个像素添加噪声\n",
    "    for y in range(0, height, stripe_gap):\n",
    "        for x in range(width):\n",
    "\n",
    "            # 在位置 (y, x) 添加高斯噪声\n",
    "            noise = np.random.normal(noise_mean, noise_std, 1)  # 对每个通道添加噪声\n",
    "            noisy_image[y, x] = np.clip(noisy_image[y, x] + noise, 0, 255)  # 添加噪声并裁剪到合法范围\n",
    "\n",
    "    return noisy_image\n",
    "# 添加噪声到图像\n",
    "image = add_gaussian_noise(gray_image_np)\n",
    "plt.imshow(image, cmap='gray')\n",
    "plt.axis('off')  # 不显示坐标轴\n",
    "plt.show()"
   ]
  },
  {
   "cell_type": "code",
   "execution_count": 37,
   "metadata": {},
   "outputs": [
    {
     "data": {
      "text/plain": [
       "<matplotlib.image.AxesImage at 0x7feace779d50>"
      ]
     },
     "execution_count": 37,
     "metadata": {},
     "output_type": "execute_result"
    },
    {
     "data": {
      "image/png": "[encoded data removed]",
      "text/plain": [
       "<Figure size 640x480 with 1 Axes>"
      ]
     },
     "metadata": {},
     "output_type": "display_data"
    }
   ],
   "source": [
    "filter_image = FAD(image,l=1,gamma = 20)\n",
    "plt.imshow(filter_image, cmap='gray')"
   ]
  },
  {
   "cell_type": "code",
   "execution_count": 11,
   "metadata": {},
   "outputs": [
    {
     "data": {
      "image/png": "[encoded data removed]",
      "text/plain": [
       "<Figure size 640x480 with 1 Axes>"
      ]
     },
     "metadata": {},
     "output_type": "display_data"
    }
   ],
   "source": [
    "plt.imshow(gray_image_np, cmap='gray')\n",
    "plt.axis('off')  # 不显示坐标轴\n",
    "plt.show()"
   ]
  }
 ],
 "metadata": {
  "kernelspec": {
   "display_name": "admm",
   "language": "python",
   "name": "python3"
  },
  "language_info": {
   "codemirror_mode": {
    "name": "ipython",
    "version": 3
   },
   "file_extension": ".py",
   "mimetype": "text/x-python",
   "name": "python",
   "nbconvert_exporter": "python",
   "pygments_lexer": "ipython3",
   "version": "3.7.12"
  }
 },
 "nbformat": 4,
 "nbformat_minor": 2
}
