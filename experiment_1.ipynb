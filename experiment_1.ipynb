{
 "cells": [
  {
   "cell_type": "code",
   "execution_count": null,
   "metadata": {},
   "outputs": [],
   "source": [
    "from doge_admm import dogeADMM, ADMM,fast_ADMM,ORIADMM\n",
    "from PIL import Image\n",
    "import numpy as np\n",
    "from scipy.sparse import lil_matrix\n",
    "import scipy.sparse\n",
    "import matplotlib.pyplot as plt\n",
    "import networkx as nx\n",
    "from tfgraph import *\n",
    "import copy\n",
    "import time\n"
   ]
  },
  {
   "cell_type": "code",
   "execution_count": null,
   "metadata": {},
   "outputs": [],
   "source": [
    "def add_gaussian_noise(image, mean=0, std=20):\n",
    "    noise = np.random.normal(mean, std, image.shape) \n",
    "    noise[0,:] = 0\n",
    "    noise[:,0] = 0\n",
    "    noise[:,-1] = 0\n",
    "    noise[-1,:] = 0\n",
    "    noisy_image = image + noise \n",
    "    noisy_image = np.clip(noisy_image, 0, 255) \n",
    "    return noisy_image"
   ]
  },
  {
   "cell_type": "markdown",
   "metadata": {},
   "source": [
    "## Monte Carlo\n"
   ]
  },
  {
   "cell_type": "code",
   "execution_count": null,
   "metadata": {},
   "outputs": [],
   "source": [
    "image_path = 'doge.png' \n",
    "image = Image.open(image_path)\n",
    "gray_image = image.convert('L').resize((64,64))\n",
    "image = np.array(gray_image)"
   ]
  },
  {
   "cell_type": "code",
   "execution_count": null,
   "metadata": {},
   "outputs": [],
   "source": [
    "t_m = []\n",
    "loss_m = []\n",
    "k = 1\n",
    "B = 2\n",
    "for _ in range(50):\n",
    "    image_noise = add_gaussian_noise(image)\n",
    "    z,Loss,Time = dogeADMM(image_noise,k=k,B=B,l=10,max_iter=100,get_loss_seq=True,threshold=1e-4)\n",
    "    t_m.append(Time[-1])\n",
    "    loss_m.append(Loss[-1])\n",
    "\n",
    "t_m = np.array(t_m)\n",
    "loss_m = np.array(loss_m)\n",
    "\n",
    "t_m.mean(),loss_m.mean(),t_m.std(),loss_m.std()"
   ]
  },
  {
   "cell_type": "code",
   "execution_count": null,
   "metadata": {},
   "outputs": [],
   "source": [
    "t_m = []\n",
    "loss_m = []\n",
    "k = 1\n",
    "for _ in range(50):\n",
    "    image_noise = add_gaussian_noise(image)\n",
    "    z,Loss,Time = ADMM(image_noise,k,lambd=10,rho=1,max_iter=100,tol=1e-3)\n",
    "    t_m.append(Time[-1])\n",
    "    loss_m.append(Loss[-1])\n",
    "\n",
    "t_m = np.array(t_m)\n",
    "loss_m = np.array(loss_m)\n",
    "\n",
    "t_m.mean(),loss_m.mean(),t_m.std(),loss_m.std()"
   ]
  },
  {
   "cell_type": "code",
   "execution_count": null,
   "metadata": {},
   "outputs": [],
   "source": [
    "t_m = []\n",
    "loss_m = []\n",
    "iters = []\n",
    "k = 1\n",
    "B = 2\n",
    "for _ in range(50):\n",
    "    image_noise = add_gaussian_noise(image)\n",
    "    z,Loss,iter,Time = fast_ADMM(image_noise,k=k,l=10,rho=1,max_iter=100,tol=1e-3)\n",
    "    t_m.append(Time[-1])\n",
    "    loss_m.append(Loss[-1])\n",
    "    iters.append(iter)\n",
    "\n",
    "t_m = np.array(t_m)\n",
    "loss_m = np.array(loss_m)\n",
    "iter = np.array(iters)\n",
    "\n",
    "t_m.mean(),loss_m.mean(),t_m.std(),loss_m.std(),iters.mean().iters.std()"
   ]
  },
  {
   "cell_type": "code",
   "execution_count": null,
   "metadata": {},
   "outputs": [],
   "source": [
    "t_m = []\n",
    "loss_m = []\n",
    "iters = []\n",
    "k = 1\n",
    "B = 2\n",
    "for _ in range(50):\n",
    "    image_noise = add_gaussian_noise(image)\n",
    "    z, Loss, iter,Time = ORIADMM(image_noise, rho=1,l=10, max_iter=100, k=k, tol=1e-3)\n",
    "    t_m.append(Time[-1])\n",
    "    loss_m.append(Loss[-1])\n",
    "    iters.append(iter)\n",
    "\n",
    "\n",
    "t_m = np.array(t_m)\n",
    "loss_m = np.array(loss_m)\n",
    "iter_m = np.array(iters)\n",
    "\n",
    "t_m.mean(),loss_m.mean(),t_m.std(),loss_m.std(),iter_m.mean().iter_m.std()"
   ]
  },
  {
   "cell_type": "markdown",
   "metadata": {},
   "source": [
    "## Image Denoising"
   ]
  },
  {
   "cell_type": "code",
   "execution_count": null,
   "metadata": {},
   "outputs": [],
   "source": [
    "def read_and_split_png(image_path):\n",
    "\n",
    "    img = Image.open(image_path)\n",
    "    img = img.convert(\"RGB\").resize((128,128))\n",
    "    img_array = np.array(img,dtype=float)\n",
    "    R, G, B = img_array[:, :, 0], img_array[:, :, 1], img_array[:, :, 2]\n",
    "    return R, G, B\n",
    "\n",
    "def merge_and_save_png(R, G, B, save_path):\n",
    "    merged_img_array = np.stack((R, G, B), axis=-1)\n",
    "    merged_img = Image.fromarray(merged_img_array.astype(\"uint8\"), \"RGB\")\n",
    "    merged_img.save(save_path)\n",
    "\n",
    "input_path = \"star.png\"  # 输入图像路径\n",
    "output_path = \"png/noise_star.png\"  # 输出图像路径\n",
    "\n",
    "R, G, B = read_and_split_png(input_path)\n",
    "cols,rows = R.shape\n",
    "\n",
    "R = add_gaussian_noise(R,0,std = 1)\n",
    "G = add_gaussian_noise(G,0,std = 1)\n",
    "B = add_gaussian_noise(B,0,std = 1)\n",
    "\n",
    "\n",
    "merge_and_save_png(R, G, B, output_path)\n",
    "k=0\n",
    "BB=1\n",
    "l = 10\n",
    "rho = 1\n",
    "R1 = dogeADMM(R,k=k,B=BB,l=l,rho=rho,max_iter=50)\n",
    "G1 = dogeADMM(G,k=k,B=BB,l=l,rho=rho,max_iter=50)\n",
    "B1 = dogeADMM(B,k=k,B=BB,l=l,rho=rho,max_iter=50)\n",
    "\n",
    "merge_and_save_png(R1.reshape(cols,rows), G1.reshape(cols,rows), B1.reshape(cols,rows), f'png/filtered_star.png')"
   ]
  }
 ],
 "metadata": {
  "kernelspec": {
   "display_name": "admm",
   "language": "python",
   "name": "python3"
  },
  "language_info": {
   "name": "python",
   "version": "3.7.12"
  }
 },
 "nbformat": 4,
 "nbformat_minor": 2
}
